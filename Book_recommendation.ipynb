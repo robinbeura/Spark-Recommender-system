{
  "nbformat": 4,
  "nbformat_minor": 0,
  "metadata": {
    "colab": {
      "name": "Book recommendation ",
      "provenance": [],
      "collapsed_sections": []
    },
    "kernelspec": {
      "name": "python3",
      "display_name": "Python 3"
    },
    "accelerator": "GPU"
  },
  "cells": [
    {
      "cell_type": "markdown",
      "metadata": {
        "id": "UJ3eRxXX4CnP"
      },
      "source": [
        "# Amazon Books Recommender System"
      ]
    },
    {
      "cell_type": "markdown",
      "metadata": {
        "id": "RW58IGM6oqsj"
      },
      "source": [
        "# Setting up Spark Modules"
      ]
    },
    {
      "cell_type": "code",
      "metadata": {
        "id": "zI4bXn2inxtn"
      },
      "source": [
        "!apt-get install openjdk-8-jdk-headless -qq > /dev/null\n",
        "!wget -q https://apache.osuosl.org/spark/spark-3.0.1/spark-3.0.1-bin-hadoop2.7.tgz\n",
        "!tar xf spark-3.0.1-bin-hadoop2.7.tgz\n",
        "!pip install -q findspark"
      ],
      "execution_count": null,
      "outputs": []
    },
    {
      "cell_type": "code",
      "metadata": {
        "id": "madMXu4roMhX"
      },
      "source": [
        "import os\n",
        "os.environ[\"JAVA_HOME\"] = \"/usr/lib/jvm/java-8-openjdk-amd64\"\n",
        "os.environ[\"SPARK_HOME\"] = \"/content/spark-3.0.1-bin-hadoop2.7\""
      ],
      "execution_count": null,
      "outputs": []
    },
    {
      "cell_type": "markdown",
      "metadata": {
        "id": "pX2qShj0onLd"
      },
      "source": [
        "# Working with drive\n",
        " - load data \n",
        " - data preparation and analysis"
      ]
    },
    {
      "cell_type": "code",
      "metadata": {
        "id": "23vXEmIgoMpb",
        "colab": {
          "base_uri": "https://localhost:8080/"
        },
        "outputId": "75aa5428-0950-4d46-82a1-5f8392ddaccd"
      },
      "source": [
        "from google.colab import drive\n",
        "drive.mount('/content/drive', force_remount=True)"
      ],
      "execution_count": null,
      "outputs": [
        {
          "output_type": "stream",
          "text": [
            "Mounted at /content/drive\n"
          ],
          "name": "stdout"
        }
      ]
    },
    {
      "cell_type": "markdown",
      "metadata": {
        "id": "SRS5eE2gw4y_"
      },
      "source": [
        "# Spark dependencies "
      ]
    },
    {
      "cell_type": "code",
      "metadata": {
        "id": "-l8gJ2Mzyq3n"
      },
      "source": [
        "import findspark\n",
        "findspark.init()\n",
        "\n",
        "import pyspark\n",
        "from pyspark import SparkContext\n",
        "from pyspark.sql import SQLContext, SparkSession, Row\n",
        "from pyspark.sql.functions import udf, col, when\n",
        "from pyspark.sql import SparkSession, functions as F \n",
        "from pyspark.sql.functions import countDistinct\n",
        "from pyspark.sql.types import StringType\n",
        "from pyspark.ml.feature import Tokenizer, RegexTokenizer, CountVectorizer, IDF\n",
        "from pyspark.ml.evaluation import RegressionEvaluator\n",
        "from pyspark.ml.recommendation import ALS\n",
        "from pyspark.ml.tuning import CrossValidator, ParamGridBuilder\n",
        "from pyspark.ml import pipeline\n",
        "from pyspark.mllib.feature import HashingTF\n",
        "from pyspark.mllib.feature import IDF\n",
        "\n",
        "from sklearn.metrics.pairwise import linear_kernel\n",
        "from sklearn.metrics.pairwise import cosine_similarity\n",
        "from sklearn.feature_extraction.text import TfidfVectorizer, CountVectorizer\n",
        "\n",
        "\n",
        "import numpy as np\n"
      ],
      "execution_count": null,
      "outputs": []
    },
    {
      "cell_type": "code",
      "metadata": {
        "id": "a85p_UsroMuL"
      },
      "source": [
        "spark = pyspark.sql.SparkSession.builder\\\n",
        "                .master(\"local[*]\")\\\n",
        "                .getOrCreate()\n",
        "sc =SparkContext.getOrCreate() \n",
        "sqlContext = SQLContext(sc)"
      ],
      "execution_count": null,
      "outputs": []
    },
    {
      "cell_type": "markdown",
      "metadata": {
        "id": "wFjMNn2Gu3Vh"
      },
      "source": [
        "# Load data and cleaning\n"
      ]
    },
    {
      "cell_type": "code",
      "metadata": {
        "id": "uss4NtNIoMs8"
      },
      "source": [
        "ratings_data = spark.read.csv(\"/content/drive/Shared drives/IDS 561 - Big Data /Project/Data/Amazon data/ratings.csv\",\n",
        "                              header = True,\n",
        "                              inferSchema = True)\n",
        "\n",
        "books_data = spark.read.csv(\"/content/drive/Shared drives/IDS 561 - Big Data /Project/Data/Amazon data/books.csv\",\n",
        "                              header = True,\n",
        "                              inferSchema = True)"
      ],
      "execution_count": null,
      "outputs": []
    },
    {
      "cell_type": "code",
      "metadata": {
        "id": "fgd1ZzqA-qRs"
      },
      "source": [
        "import pandas as pd\n",
        "\n",
        "def count_column_types(spark_df):\n",
        "    \"\"\"Count number of columns per type\"\"\"\n",
        "    return pd.DataFrame(spark_df.dtypes).groupby(1, as_index=False)[0].agg({'count':'count', 'names': lambda x: \" | \".join(set(x))}).rename(columns={1:\"type\"})"
      ],
      "execution_count": null,
      "outputs": []
    },
    {
      "cell_type": "code",
      "metadata": {
        "colab": {
          "base_uri": "https://localhost:8080/"
        },
        "id": "0kQqD8506TCT",
        "outputId": "eb3ae741-6296-40b5-fa39-790f4922469d"
      },
      "source": [
        "ratings_data.count()"
      ],
      "execution_count": null,
      "outputs": [
        {
          "output_type": "execute_result",
          "data": {
            "text/plain": [
              "981756"
            ]
          },
          "metadata": {
            "tags": []
          },
          "execution_count": 8
        }
      ]
    },
    {
      "cell_type": "code",
      "metadata": {
        "colab": {
          "base_uri": "https://localhost:8080/"
        },
        "id": "x_N0N0uGLnQN",
        "outputId": "d50ac19c-2456-4534-8109-e6272ae80e57"
      },
      "source": [
        "books_data.count()"
      ],
      "execution_count": null,
      "outputs": [
        {
          "output_type": "execute_result",
          "data": {
            "text/plain": [
              "10000"
            ]
          },
          "metadata": {
            "tags": []
          },
          "execution_count": 9
        }
      ]
    },
    {
      "cell_type": "code",
      "metadata": {
        "colab": {
          "base_uri": "https://localhost:8080/"
        },
        "id": "Fa0Vetzg-edp",
        "outputId": "1b13259b-9d9d-484d-bc0b-ced086405744"
      },
      "source": [
        "ratings_data.show(1)"
      ],
      "execution_count": null,
      "outputs": [
        {
          "output_type": "stream",
          "text": [
            "+-------+-------+------+\n",
            "|book_id|user_id|rating|\n",
            "+-------+-------+------+\n",
            "|      1|    314|     5|\n",
            "+-------+-------+------+\n",
            "only showing top 1 row\n",
            "\n"
          ],
          "name": "stdout"
        }
      ]
    },
    {
      "cell_type": "code",
      "metadata": {
        "colab": {
          "base_uri": "https://localhost:8080/"
        },
        "id": "dKE4ZbGy-jN7",
        "outputId": "c22a329c-a784-4e14-d599-c8d1387e3340"
      },
      "source": [
        "books_data.show(1,False)"
      ],
      "execution_count": null,
      "outputs": [
        {
          "output_type": "stream",
          "text": [
            "+---+-------+------------+-------+-----------+---------+----------------+---------------+-------------------------+----------------+---------------------------------------+-------------+--------------+-------------+------------------+-----------------------+---------+---------+---------+---------+---------+----------------------------------------------------------+----------------------------------------------------------+\n",
            "|id |book_id|best_book_id|work_id|books_count|isbn     |isbn13          |authors        |original_publication_year|original_title  |title                                  |language_code|average_rating|ratings_count|work_ratings_count|work_text_reviews_count|ratings_1|ratings_2|ratings_3|ratings_4|ratings_5|image_url                                                 |small_image_url                                           |\n",
            "+---+-------+------------+-------+-----------+---------+----------------+---------------+-------------------------+----------------+---------------------------------------+-------------+--------------+-------------+------------------+-----------------------+---------+---------+---------+---------+---------+----------------------------------------------------------+----------------------------------------------------------+\n",
            "|1  |2767052|2767052     |2792775|272        |439023483|9.78043902348E12|Suzanne Collins|2008.0                   |The Hunger Games|The Hunger Games (The Hunger Games, #1)|eng          |4.34          |4780653      |4942365           |155254                 |66715.0  |127936   |560092   |1481305  |2706317  |https://images.gr-assets.com/books/1447303603m/2767052.jpg|https://images.gr-assets.com/books/1447303603s/2767052.jpg|\n",
            "+---+-------+------------+-------+-----------+---------+----------------+---------------+-------------------------+----------------+---------------------------------------+-------------+--------------+-------------+------------------+-----------------------+---------+---------+---------+---------+---------+----------------------------------------------------------+----------------------------------------------------------+\n",
            "only showing top 1 row\n",
            "\n"
          ],
          "name": "stdout"
        }
      ]
    },
    {
      "cell_type": "code",
      "metadata": {
        "colab": {
          "base_uri": "https://localhost:8080/",
          "height": 79
        },
        "id": "7R3hUlFyLJhN",
        "outputId": "86f1cedd-b4aa-47da-b189-0bb3b91fe914"
      },
      "source": [
        "count_column_types(ratings_data)   ### function to check the columns type"
      ],
      "execution_count": null,
      "outputs": [
        {
          "output_type": "execute_result",
          "data": {
            "text/html": [
              "<div>\n",
              "<style scoped>\n",
              "    .dataframe tbody tr th:only-of-type {\n",
              "        vertical-align: middle;\n",
              "    }\n",
              "\n",
              "    .dataframe tbody tr th {\n",
              "        vertical-align: top;\n",
              "    }\n",
              "\n",
              "    .dataframe thead th {\n",
              "        text-align: right;\n",
              "    }\n",
              "</style>\n",
              "<table border=\"1\" class=\"dataframe\">\n",
              "  <thead>\n",
              "    <tr style=\"text-align: right;\">\n",
              "      <th></th>\n",
              "      <th>type</th>\n",
              "      <th>count</th>\n",
              "      <th>names</th>\n",
              "    </tr>\n",
              "  </thead>\n",
              "  <tbody>\n",
              "    <tr>\n",
              "      <th>0</th>\n",
              "      <td>int</td>\n",
              "      <td>3</td>\n",
              "      <td>rating | book_id | user_id</td>\n",
              "    </tr>\n",
              "  </tbody>\n",
              "</table>\n",
              "</div>"
            ],
            "text/plain": [
              "  type  count                       names\n",
              "0  int      3  rating | book_id | user_id"
            ]
          },
          "metadata": {
            "tags": []
          },
          "execution_count": 12
        }
      ]
    },
    {
      "cell_type": "code",
      "metadata": {
        "colab": {
          "base_uri": "https://localhost:8080/",
          "height": 141
        },
        "id": "RsmRBb6ELB7b",
        "outputId": "c33fed10-fd3c-4395-8d8c-156129506ba8"
      },
      "source": [
        "count_column_types(books_data)"
      ],
      "execution_count": null,
      "outputs": [
        {
          "output_type": "execute_result",
          "data": {
            "text/html": [
              "<div>\n",
              "<style scoped>\n",
              "    .dataframe tbody tr th:only-of-type {\n",
              "        vertical-align: middle;\n",
              "    }\n",
              "\n",
              "    .dataframe tbody tr th {\n",
              "        vertical-align: top;\n",
              "    }\n",
              "\n",
              "    .dataframe thead th {\n",
              "        text-align: right;\n",
              "    }\n",
              "</style>\n",
              "<table border=\"1\" class=\"dataframe\">\n",
              "  <thead>\n",
              "    <tr style=\"text-align: right;\">\n",
              "      <th></th>\n",
              "      <th>type</th>\n",
              "      <th>count</th>\n",
              "      <th>names</th>\n",
              "    </tr>\n",
              "  </thead>\n",
              "  <tbody>\n",
              "    <tr>\n",
              "      <th>0</th>\n",
              "      <td>double</td>\n",
              "      <td>3</td>\n",
              "      <td>isbn13 | ratings_1 | original_publication_year</td>\n",
              "    </tr>\n",
              "    <tr>\n",
              "      <th>1</th>\n",
              "      <td>int</td>\n",
              "      <td>9</td>\n",
              "      <td>ratings_2 | ratings_4 | book_id | work_id | ra...</td>\n",
              "    </tr>\n",
              "    <tr>\n",
              "      <th>2</th>\n",
              "      <td>string</td>\n",
              "      <td>11</td>\n",
              "      <td>isbn | image_url | original_title | ratings_co...</td>\n",
              "    </tr>\n",
              "  </tbody>\n",
              "</table>\n",
              "</div>"
            ],
            "text/plain": [
              "     type  count                                              names\n",
              "0  double      3     isbn13 | ratings_1 | original_publication_year\n",
              "1     int      9  ratings_2 | ratings_4 | book_id | work_id | ra...\n",
              "2  string     11  isbn | image_url | original_title | ratings_co..."
            ]
          },
          "metadata": {
            "tags": []
          },
          "execution_count": 13
        }
      ]
    },
    {
      "cell_type": "code",
      "metadata": {
        "id": "yqQt0EP5slT9"
      },
      "source": [
        "#### making sure the book_id present in the ratings_data also exists in books_data. Otherwise the collaborative filtering gives recommendations whose book title can't be found\n",
        "ratings_data = ratings_data.join(books_data, ratings_data.book_id == books_data.book_id, 'inner').select(books_data.book_id,\"user_id\",\"rating\")"
      ],
      "execution_count": null,
      "outputs": []
    },
    {
      "cell_type": "code",
      "metadata": {
        "colab": {
          "base_uri": "https://localhost:8080/"
        },
        "id": "m_hDrxoDQJGi",
        "outputId": "8c321e6d-3c49-4b6d-b202-5d58b4b00cb4"
      },
      "source": [
        "ratings_data.show(2)"
      ],
      "execution_count": null,
      "outputs": [
        {
          "output_type": "stream",
          "text": [
            "+-------+-------+------+\n",
            "|book_id|user_id|rating|\n",
            "+-------+-------+------+\n",
            "|      1|    314|     5|\n",
            "|      1|    439|     3|\n",
            "+-------+-------+------+\n",
            "only showing top 2 rows\n",
            "\n"
          ],
          "name": "stdout"
        }
      ]
    },
    {
      "cell_type": "code",
      "metadata": {
        "id": "bRS_xelGEwNs"
      },
      "source": [
        "# data split\n",
        "train_data, test_data = ratings_data.randomSplit([0.8, 0.2])"
      ],
      "execution_count": null,
      "outputs": []
    },
    {
      "cell_type": "code",
      "metadata": {
        "colab": {
          "base_uri": "https://localhost:8080/"
        },
        "id": "pua42Z92snT9",
        "outputId": "6726a783-eae8-4ab4-f3f0-5ec0a7e0bc0d"
      },
      "source": [
        "train_data.count(), test_data.count()"
      ],
      "execution_count": null,
      "outputs": [
        {
          "output_type": "execute_result",
          "data": {
            "text/plain": [
              "(63814, 15887)"
            ]
          },
          "metadata": {
            "tags": []
          },
          "execution_count": 17
        }
      ]
    },
    {
      "cell_type": "markdown",
      "metadata": {
        "id": "VrZb87BvASMX"
      },
      "source": [
        "## Popularity based recommendation"
      ]
    },
    {
      "cell_type": "code",
      "metadata": {
        "colab": {
          "base_uri": "https://localhost:8080/"
        },
        "id": "vdyN5Hy8AQFW",
        "outputId": "1435d376-ce05-4078-ec65-53b59a182ae7"
      },
      "source": [
        "ratings_data.show(2)"
      ],
      "execution_count": null,
      "outputs": [
        {
          "output_type": "stream",
          "text": [
            "+-------+-------+------+\n",
            "|book_id|user_id|rating|\n",
            "+-------+-------+------+\n",
            "|      1|    314|     5|\n",
            "|      1|    439|     3|\n",
            "+-------+-------+------+\n",
            "only showing top 2 rows\n",
            "\n"
          ],
          "name": "stdout"
        }
      ]
    },
    {
      "cell_type": "code",
      "metadata": {
        "colab": {
          "base_uri": "https://localhost:8080/"
        },
        "id": "OHSaE0A4AQB6",
        "outputId": "bbcff1cb-e6c1-4bd5-ecb9-366c88b8607e"
      },
      "source": [
        "\"\"\"\n",
        "Popularity based recommendation\n",
        "For book present we found out the number of users who read the book and the average rating they gave.\n",
        "This is not that personalized recommendation option but is especially useful if a new user arrives and wants some recommendation on the books\n",
        "\"\"\"\n",
        "popular = ratings_data.groupBy(\"book_id\").agg(F.countDistinct(\"user_id\"), F.avg(\"rating\")).withColumnRenamed('count(user_id)', 'Count_of_Users')\n",
        "popular.show(1)"
      ],
      "execution_count": null,
      "outputs": [
        {
          "output_type": "stream",
          "text": [
            "+-------+--------------+-----------+\n",
            "|book_id|Count_of_Users|avg(rating)|\n",
            "+-------+--------------+-----------+\n",
            "|   1591|           100|       4.01|\n",
            "+-------+--------------+-----------+\n",
            "only showing top 1 row\n",
            "\n"
          ],
          "name": "stdout"
        }
      ]
    },
    {
      "cell_type": "code",
      "metadata": {
        "colab": {
          "base_uri": "https://localhost:8080/"
        },
        "id": "gds-x68JaevK",
        "outputId": "071d3339-768e-497a-a44d-30209ed928a3"
      },
      "source": [
        "details = popular.join(books_data, popular.book_id == books_data.book_id ,'inner')\\\n",
        "          .drop(books_data.book_id).select(\"book_id\",\"Count_of_Users\",\"avg(rating)\", \"original_title\")\n",
        "details.orderBy(F.col(\"Count_of_Users\").desc(), F.col(\"avg(rating)\").desc()).select(\"original_title\",\"Count_of_Users\",\"avg(rating)\").show(10,False)"
      ],
      "execution_count": null,
      "outputs": [
        {
          "output_type": "stream",
          "text": [
            "+----------------------------------------------------------------------+--------------+-----------+\n",
            "|original_title                                                        |Count_of_Users|avg(rating)|\n",
            "+----------------------------------------------------------------------+--------------+-----------+\n",
            "|The Beautiful and Damned                                              |100           |4.66       |\n",
            "|The Taste of Home Cookbook                                            |100           |4.55       |\n",
            "|A People's History of the United States: 1492 to Present              |100           |4.54       |\n",
            "|Girl with a Pearl Earring                                             |100           |4.53       |\n",
            "|Deception Point                                                       |100           |4.5        |\n",
            "|The Curious Incident of the Dog in the Night-Time                     |100           |4.48       |\n",
            "|The Last Juror                                                        |100           |4.47       |\n",
            "|First They Killed My Father: A Daughter of Cambodia Remembers         |100           |4.45       |\n",
            "|The Millionaire Next Door: The Surprising Secrets of America's Wealthy|100           |4.44       |\n",
            "|The Adventures of Huckleberry Finn                                    |100           |4.44       |\n",
            "+----------------------------------------------------------------------+--------------+-----------+\n",
            "only showing top 10 rows\n",
            "\n"
          ],
          "name": "stdout"
        }
      ]
    },
    {
      "cell_type": "markdown",
      "metadata": {
        "id": "RDmH9eEwJHmt"
      },
      "source": [
        "## Collaborative filtering using ALS model\n",
        "The most important kind of recommender system is collaborative filtering based approach. Let’s say you know a friend who has the same taste as you because you both love psychology, then you might like reading other books that your friend has read but you haven’t. This is the sole concept behind collaborative filtering. Hence it provides a more personalized touch.\n",
        "\n",
        "Collaborative filtering can be easily achieved by matrix factorization techniques like Singular Value decomposition where a user-rating matrix is decomposed into the user-concept matrix, concept-weights matrix, and rating-concept matrix. Concepts are basically latent or hidden factors that the matrix decomposition implicitly generates.\n",
        "\n",
        "Most of the matrix factorization techniques like Singular Value decomposition don’t know how to deal with an incomplete/sparse matrix which means having empty values in the user-rating matrix. \n",
        "Recent methods like Alternating Least square don’t suffer from these fallbacks. They suggest modeling directly the observed ratings while avoiding overfitting through a regularized model."
      ]
    },
    {
      "cell_type": "code",
      "metadata": {
        "id": "79cfAWEAAP5G"
      },
      "source": [
        "def ALS_model(rank_value, iterations, step):\n",
        "  model_coldstart = ALS(rank = rank_value,maxIter=iterations,regParam=step, userCol=\"user_id\", itemCol=\"book_id\", ratingCol=\"rating\", nonnegative = True, coldStartStrategy=\"drop\", seed = 11)\n",
        "  model = model_coldstart.fit(train_data)\n",
        "  return model"
      ],
      "execution_count": null,
      "outputs": []
    },
    {
      "cell_type": "code",
      "metadata": {
        "id": "AafPmt_lAP2U"
      },
      "source": [
        "# get predictions\n",
        "iterations = 5 \n",
        "step = 0.1  # regularization parameter \n",
        "rank_value = 10 ## by default # rank - Latent features\n",
        "\n",
        "# error initiation \n",
        "error_rate = [] \n",
        "loss_error = 0 \n",
        "base_model = ALS_model(rank_value, iterations, step)\n",
        "predict_train = base_model.transform(train_data)\n",
        "predict_test = base_model.transform(test_data)"
      ],
      "execution_count": null,
      "outputs": []
    },
    {
      "cell_type": "code",
      "metadata": {
        "colab": {
          "base_uri": "https://localhost:8080/"
        },
        "id": "Ziukdi4oAPzF",
        "outputId": "325a66f7-d1b4-443a-b81b-07db09ad609f"
      },
      "source": [
        "predict_train.show(5)"
      ],
      "execution_count": null,
      "outputs": [
        {
          "output_type": "stream",
          "text": [
            "+-------+-------+------+----------+\n",
            "|book_id|user_id|rating|prediction|\n",
            "+-------+-------+------+----------+\n",
            "|   1591|  35982|     5|  4.103718|\n",
            "|   1591|  19526|     3|  3.343424|\n",
            "|   1591|  43689|     4| 3.7329583|\n",
            "|   1591|  15161|     4| 3.8242831|\n",
            "|   1591|   6213|     4| 3.5726175|\n",
            "+-------+-------+------+----------+\n",
            "only showing top 5 rows\n",
            "\n"
          ],
          "name": "stdout"
        }
      ]
    },
    {
      "cell_type": "code",
      "metadata": {
        "id": "FSSBaR87APv7"
      },
      "source": [
        "evaluator = RegressionEvaluator(predictionCol='prediction', labelCol='rating',metricName='rmse')"
      ],
      "execution_count": null,
      "outputs": []
    },
    {
      "cell_type": "code",
      "metadata": {
        "id": "HwUnlou6APs_"
      },
      "source": [
        "rmse_train = evaluator.evaluate(predict_train)\n",
        "rmse_test = evaluator.evaluate(predict_test)"
      ],
      "execution_count": null,
      "outputs": []
    },
    {
      "cell_type": "code",
      "metadata": {
        "colab": {
          "base_uri": "https://localhost:8080/"
        },
        "id": "Qrl6Yr00APpt",
        "outputId": "30969f02-52d6-4678-e6f0-2cf2ec5bf843"
      },
      "source": [
        "print(rmse_train,rmse_test)"
      ],
      "execution_count": null,
      "outputs": [
        {
          "output_type": "stream",
          "text": [
            "0.32334890238629627 1.4280916075496217\n"
          ],
          "name": "stdout"
        }
      ]
    },
    {
      "cell_type": "markdown",
      "metadata": {
        "id": "A_ATUuTQe4DE"
      },
      "source": [
        "**Cross validation ALS**"
      ]
    },
    {
      "cell_type": "code",
      "metadata": {
        "id": "L7xJfG2ZfW_q"
      },
      "source": [
        "model_cv = ALS(userCol=\"user_id\", itemCol=\"book_id\", ratingCol=\"rating\", nonnegative = True, coldStartStrategy= \"drop\", seed = 11)"
      ],
      "execution_count": null,
      "outputs": []
    },
    {
      "cell_type": "code",
      "metadata": {
        "colab": {
          "base_uri": "https://localhost:8080/"
        },
        "id": "Mqt1c6p6APmC",
        "outputId": "89f484e4-13a0-483f-d9ad-5bda4c8a5588"
      },
      "source": [
        "import time\n",
        "start = time.time()\n",
        "# Parameters for tuning\n",
        "paramGrid = ParamGridBuilder().addGrid(model_cv.maxIter, [10]).addGrid(model_cv.regParam, [0.1, 1, 10]).addGrid(model_cv.rank, [10,12]).build()\n",
        "\n",
        "crossvalidation = CrossValidator(estimator = model_cv,\n",
        "                     estimatorParamMaps = paramGrid,\n",
        "                     evaluator = evaluator,\n",
        "                     numFolds=5)\n",
        "\n",
        "# Run cross-validation, and choose the best set of parameters.\n",
        "Best_model = crossvalidation.fit(train_data).bestModel\n",
        "(time.time() - start)/60"
      ],
      "execution_count": null,
      "outputs": [
        {
          "output_type": "execute_result",
          "data": {
            "text/plain": [
              "6.629543689886729"
            ]
          },
          "metadata": {
            "tags": []
          },
          "execution_count": 27
        }
      ]
    },
    {
      "cell_type": "code",
      "metadata": {
        "id": "YKuOEyZs338c"
      },
      "source": [
        "### Best model Rmse\n",
        "# get predictions\n",
        "predict_train_bm = Best_model.transform(train_data)\n",
        "predict_test_bm = Best_model.transform(test_data)\n",
        "rmse_train_bm = evaluator.evaluate(predict_train_bm)\n",
        "rmse_test_bm = evaluator.evaluate(predict_test_bm)"
      ],
      "execution_count": null,
      "outputs": []
    },
    {
      "cell_type": "code",
      "metadata": {
        "colab": {
          "base_uri": "https://localhost:8080/"
        },
        "id": "Ogd5K1BR35sj",
        "outputId": "652e0eeb-8494-4fa2-b053-67e4420c5c89"
      },
      "source": [
        "print(rmse_train_bm,rmse_test_bm)"
      ],
      "execution_count": null,
      "outputs": [
        {
          "output_type": "stream",
          "text": [
            "0.2558271264916035 1.236640618117528\n"
          ],
          "name": "stdout"
        }
      ]
    },
    {
      "cell_type": "code",
      "metadata": {
        "colab": {
          "base_uri": "https://localhost:8080/"
        },
        "id": "otXJ-pj7DSP6",
        "outputId": "74f2ab63-5cf6-490a-bda8-0ca8f0a8ff61"
      },
      "source": [
        "Best_model"
      ],
      "execution_count": null,
      "outputs": [
        {
          "output_type": "execute_result",
          "data": {
            "text/plain": [
              "ALSModel: uid=ALS_44068ea58d9d, rank=12"
            ]
          },
          "metadata": {
            "tags": []
          },
          "execution_count": 30
        }
      ]
    },
    {
      "cell_type": "code",
      "metadata": {
        "id": "7uJlT4sBqow7"
      },
      "source": [
        "top_10_bookid = Best_model.recommendForAllUsers(10)"
      ],
      "execution_count": null,
      "outputs": []
    },
    {
      "cell_type": "code",
      "metadata": {
        "colab": {
          "base_uri": "https://localhost:8080/"
        },
        "id": "O3tHRe3eZw7i",
        "outputId": "e0f9a80c-d756-4273-a90c-b053cae4a0a5"
      },
      "source": [
        "top_10_bookid.show(5,False)"
      ],
      "execution_count": null,
      "outputs": [
        {
          "output_type": "stream",
          "text": [
            "+-------+------------------------------------------------------------------------------------------------------------------------------------------------------------------------------------------+\n",
            "|user_id|recommendations                                                                                                                                                                           |\n",
            "+-------+------------------------------------------------------------------------------------------------------------------------------------------------------------------------------------------+\n",
            "|148    |[[1823, 3.6361318], [1519, 3.6086044], [6310, 3.5921187], [9712, 3.5328784], [840, 3.5204031], [7728, 3.515255], [7073, 3.500424], [5367, 3.4896665], [2956, 3.4867005], [378, 3.4820368]]|\n",
            "|496    |[[8966, 3.8918335], [7069, 3.8009326], [2095, 3.7020848], [8087, 3.6697586], [475, 3.66822], [29, 3.6594186], [9784, 3.6126285], [5752, 3.61161], [6425, 3.6094944], [10, 3.5703354]]     |\n",
            "|833    |[[5084, 1.9493285], [1519, 1.8485339], [5413, 1.8339926], [9569, 1.8117305], [2865, 1.8083894], [3758, 1.7392805], [119, 1.72158], [67, 1.7201985], [4264, 1.6865608], [3764, 1.6848353]] |\n",
            "|1088   |[[2199, 4.9328327], [7745, 4.8802137], [5175, 4.820094], [3586, 4.753965], [8732, 4.7063475], [8087, 4.6139493], [8648, 4.60361], [1618, 4.5934033], [9531, 4.57215], [1622, 4.4907017]]  |\n",
            "|1342   |[[5826, 3.8930144], [5167, 3.8712156], [9566, 3.797004], [8282, 3.7505322], [3885, 3.7095582], [890, 3.708792], [4407, 3.7039745], [4006, 3.7011554], [8909, 3.67655], [9998, 3.6759694]] |\n",
            "+-------+------------------------------------------------------------------------------------------------------------------------------------------------------------------------------------------+\n",
            "only showing top 5 rows\n",
            "\n"
          ],
          "name": "stdout"
        }
      ]
    },
    {
      "cell_type": "code",
      "metadata": {
        "colab": {
          "base_uri": "https://localhost:8080/"
        },
        "id": "R8GEm1IKYjOU",
        "outputId": "b62e0993-6495-4df3-cd42-dda64af8dc49"
      },
      "source": [
        "top10_userid = Best_model.recommendForItemSubset(books_data, 10)\n",
        "top10_userid.select(\"book_id\",\"recommendations.user_id\").show(5)"
      ],
      "execution_count": null,
      "outputs": [
        {
          "output_type": "stream",
          "text": [
            "+-------+--------------------+\n",
            "|book_id|             user_id|\n",
            "+-------+--------------------+\n",
            "|   4900|[7120, 29240, 301...|\n",
            "|   1591|[32226, 24335, 25...|\n",
            "|   2122|[15159, 43083, 53...|\n",
            "|   2142|[9675, 37700, 221...|\n",
            "|   7993|[34992, 24341, 28...|\n",
            "+-------+--------------------+\n",
            "only showing top 5 rows\n",
            "\n"
          ],
          "name": "stdout"
        }
      ]
    },
    {
      "cell_type": "code",
      "metadata": {
        "id": "tYGKN3dcYmNn"
      },
      "source": [
        "nrecommend = top_10_bookid.withColumn(\"rec_exp\", F.explode(\"recommendations\")).select('user_id','rec_exp.book_id', 'rec_exp.rating')"
      ],
      "execution_count": null,
      "outputs": []
    },
    {
      "cell_type": "code",
      "metadata": {
        "colab": {
          "base_uri": "https://localhost:8080/"
        },
        "id": "oZGQXqIkYpFb",
        "outputId": "910bf6cd-c5e3-401c-f86d-2352545590d1"
      },
      "source": [
        "nrecommend.show(10, False)"
      ],
      "execution_count": null,
      "outputs": [
        {
          "output_type": "stream",
          "text": [
            "+-------+-------+---------+\n",
            "|user_id|book_id|rating   |\n",
            "+-------+-------+---------+\n",
            "|148    |1823   |3.6361318|\n",
            "|148    |1519   |3.6086044|\n",
            "|148    |6310   |3.5921187|\n",
            "|148    |9712   |3.5328784|\n",
            "|148    |840    |3.5204031|\n",
            "|148    |7728   |3.515255 |\n",
            "|148    |7073   |3.500424 |\n",
            "|148    |5367   |3.4896665|\n",
            "|148    |2956   |3.4867005|\n",
            "|148    |378    |3.4820368|\n",
            "+-------+-------+---------+\n",
            "only showing top 10 rows\n",
            "\n"
          ],
          "name": "stdout"
        }
      ]
    },
    {
      "cell_type": "code",
      "metadata": {
        "id": "NSw1kj9mkKCA"
      },
      "source": [
        "top_10_bookid = top_10_bookid.toPandas()"
      ],
      "execution_count": null,
      "outputs": []
    },
    {
      "cell_type": "code",
      "metadata": {
        "id": "w35Alg_Zq6Mn"
      },
      "source": [
        "# Data Display                                                                  \n",
        "for i in range(len(top_10_bookid)):\n",
        "    rec = top_10_bookid.iloc[i, 1]\n",
        "    top10_new = []\n",
        "    top10_book_id = 0\n",
        "    for j in range(len(rec)):\n",
        "        lst = rec[j]\n",
        "        top10_new.append(str(lst[0]))\n",
        "    book_ids = ','.join(top10_new)\n",
        "    top_10_bookid.loc[i, 'recommendations'] = book_ids"
      ],
      "execution_count": null,
      "outputs": []
    },
    {
      "cell_type": "code",
      "metadata": {
        "colab": {
          "base_uri": "https://localhost:8080/",
          "height": 355
        },
        "id": "eJOGsUNuq6Jr",
        "outputId": "3b45f3cb-e875-4bf2-de63-5016a27371f7"
      },
      "source": [
        "top_10_bookid.head(10)"
      ],
      "execution_count": null,
      "outputs": [
        {
          "output_type": "execute_result",
          "data": {
            "text/html": [
              "<div>\n",
              "<style scoped>\n",
              "    .dataframe tbody tr th:only-of-type {\n",
              "        vertical-align: middle;\n",
              "    }\n",
              "\n",
              "    .dataframe tbody tr th {\n",
              "        vertical-align: top;\n",
              "    }\n",
              "\n",
              "    .dataframe thead th {\n",
              "        text-align: right;\n",
              "    }\n",
              "</style>\n",
              "<table border=\"1\" class=\"dataframe\">\n",
              "  <thead>\n",
              "    <tr style=\"text-align: right;\">\n",
              "      <th></th>\n",
              "      <th>user_id</th>\n",
              "      <th>recommendations</th>\n",
              "    </tr>\n",
              "  </thead>\n",
              "  <tbody>\n",
              "    <tr>\n",
              "      <th>0</th>\n",
              "      <td>148</td>\n",
              "      <td>1823,1519,6310,9712,840,7728,7073,5367,2956,378</td>\n",
              "    </tr>\n",
              "    <tr>\n",
              "      <th>1</th>\n",
              "      <td>496</td>\n",
              "      <td>8966,7069,2095,8087,475,29,9784,5752,6425,10</td>\n",
              "    </tr>\n",
              "    <tr>\n",
              "      <th>2</th>\n",
              "      <td>833</td>\n",
              "      <td>5084,1519,5413,9569,2865,3758,119,67,4264,3764</td>\n",
              "    </tr>\n",
              "    <tr>\n",
              "      <th>3</th>\n",
              "      <td>1088</td>\n",
              "      <td>2199,7745,5175,3586,8732,8087,8648,1618,9531,1622</td>\n",
              "    </tr>\n",
              "    <tr>\n",
              "      <th>4</th>\n",
              "      <td>1342</td>\n",
              "      <td>5826,5167,9566,8282,3885,890,4407,4006,8909,9998</td>\n",
              "    </tr>\n",
              "    <tr>\n",
              "      <th>5</th>\n",
              "      <td>1645</td>\n",
              "      <td>9569,8948,4407,5413,1715,6426,1554,2865,1635,9864</td>\n",
              "    </tr>\n",
              "    <tr>\n",
              "      <th>6</th>\n",
              "      <td>1829</td>\n",
              "      <td>9569,5413,2865,67,1519,9566,3463,9712,119,1618</td>\n",
              "    </tr>\n",
              "    <tr>\n",
              "      <th>7</th>\n",
              "      <td>2142</td>\n",
              "      <td>9569,9650,2865,3858,9566,7745,3463,1618,3378,7039</td>\n",
              "    </tr>\n",
              "    <tr>\n",
              "      <th>8</th>\n",
              "      <td>2366</td>\n",
              "      <td>9531,8732,1618,9569,8087,5413,2872,4373,6514,8648</td>\n",
              "    </tr>\n",
              "    <tr>\n",
              "      <th>9</th>\n",
              "      <td>2866</td>\n",
              "      <td>9569,5413,2865,9566,6678,7682,8282,3378,9998,8647</td>\n",
              "    </tr>\n",
              "  </tbody>\n",
              "</table>\n",
              "</div>"
            ],
            "text/plain": [
              "   user_id                                    recommendations\n",
              "0      148    1823,1519,6310,9712,840,7728,7073,5367,2956,378\n",
              "1      496       8966,7069,2095,8087,475,29,9784,5752,6425,10\n",
              "2      833     5084,1519,5413,9569,2865,3758,119,67,4264,3764\n",
              "3     1088  2199,7745,5175,3586,8732,8087,8648,1618,9531,1622\n",
              "4     1342   5826,5167,9566,8282,3885,890,4407,4006,8909,9998\n",
              "5     1645  9569,8948,4407,5413,1715,6426,1554,2865,1635,9864\n",
              "6     1829     9569,5413,2865,67,1519,9566,3463,9712,119,1618\n",
              "7     2142  9569,9650,2865,3858,9566,7745,3463,1618,3378,7039\n",
              "8     2366  9531,8732,1618,9569,8087,5413,2872,4373,6514,8648\n",
              "9     2866  9569,5413,2865,9566,6678,7682,8282,3378,9998,8647"
            ]
          },
          "metadata": {
            "tags": []
          },
          "execution_count": 38
        }
      ]
    },
    {
      "cell_type": "code",
      "metadata": {
        "colab": {
          "base_uri": "https://localhost:8080/"
        },
        "id": "q4HQTR5z7GpV",
        "outputId": "bd58b401-efc2-48f7-a4de-b1682d4f6ed0"
      },
      "source": [
        "### predicted preference\n",
        "queried_user_id = '148'\n",
        "print(f'Queried user id : {queried_user_id}')\n",
        "nrecommend.join(books_data, nrecommend.book_id == books_data.book_id).filter(nrecommend.user_id == queried_user_id).select('user_id',nrecommend.book_id,'original_title').show(10, False)"
      ],
      "execution_count": null,
      "outputs": [
        {
          "output_type": "stream",
          "text": [
            "Queried user id : 148\n",
            "+-------+-------+----------------------------------------+\n",
            "|user_id|book_id|original_title                          |\n",
            "+-------+-------+----------------------------------------+\n",
            "|148    |760    |Memoria de mis putas tristes            |\n",
            "|148    |6310   |Charlie and the Chocolate Factory       |\n",
            "|148    |4708   |The Beautiful and Damned                |\n",
            "|148    |8968   |The Vampire Prince (Cirque Du Freak, #6)|\n",
            "|148    |2978   |Lost Horizon                            |\n",
            "|148    |7677   |Jurassic Park                           |\n",
            "|148    |3872   |A History of the World in 6 Glasses     |\n",
            "|148    |2872   |Falling Angels                          |\n",
            "|148    |11     |The Hitchhiker's Guide to the Galaxy    |\n",
            "|148    |6149   |Beloved                                 |\n",
            "+-------+-------+----------------------------------------+\n",
            "\n"
          ],
          "name": "stdout"
        }
      ]
    },
    {
      "cell_type": "markdown",
      "metadata": {
        "id": "4SqQK86bpEZo"
      },
      "source": [
        "### Content based recommendation system\n",
        "The content based recommendation system tries to recommend similar content items which is in our case books. Since we do not have the books description we had to go with title and the author's name to derive the features and provide recommendations. The recommendations are hence not that accurate.\n",
        "\n",
        "In the feature engineering step the raw text data will be transformed into feature vectors and new features will be created using the existing dataset. We will implement the following different ideas in order to obtain relevant features from our dataset.\n",
        "\n",
        "- Count Vectors as features\n",
        "- TF-IDF Vectors as features"
      ]
    },
    {
      "cell_type": "code",
      "metadata": {
        "id": "0UE0Ruk7q6Ge"
      },
      "source": [
        "concat_udf = F.udf(lambda cols: \" \".join([x if x is not None else \"*\" for x in cols]), StringType())\n",
        "books_datacont = books_data.withColumn(\"desc\", concat_udf(F.array(\"authors\",\"rating\")))                         \n",
        "books_datacont = books_datacont.withColumn(\"desc\", F.regexp_replace(\"desc\", \"[/(,)]\", \" \"))"
      ],
      "execution_count": null,
      "outputs": []
    },
    {
      "cell_type": "code",
      "metadata": {
        "colab": {
          "base_uri": "https://localhost:8080/"
        },
        "id": "VyEI4sMA_seS",
        "outputId": "77249871-508d-4a92-fd2b-2e97d0b0fbc2"
      },
      "source": [
        "books_datacont.show(1,False)"
      ],
      "execution_count": null,
      "outputs": [
        {
          "output_type": "stream",
          "text": [
            "+---+-------+------------+-------+-----------+---------+----------------+---------------+-------------------------+----------------+---------------------------------------+-------------+--------------+-------------+------------------+-----------------------+---------+---------+---------+---------+---------+----------------------------------------------------------+----------------------------------------------------------+------------------------------------------------------------+\n",
            "|id |book_id|best_book_id|work_id|books_count|isbn     |isbn13          |authors        |original_publication_year|original_title  |title                                  |language_code|average_rating|ratings_count|work_ratings_count|work_text_reviews_count|ratings_1|ratings_2|ratings_3|ratings_4|ratings_5|image_url                                                 |small_image_url                                           |desc                                                        |\n",
            "+---+-------+------------+-------+-----------+---------+----------------+---------------+-------------------------+----------------+---------------------------------------+-------------+--------------+-------------+------------------+-----------------------+---------+---------+---------+---------+---------+----------------------------------------------------------+----------------------------------------------------------+------------------------------------------------------------+\n",
            "|1  |2767052|2767052     |2792775|272        |439023483|9.78043902348E12|Suzanne Collins|2008.0                   |The Hunger Games|The Hunger Games (The Hunger Games, #1)|eng          |4.34          |4780653      |4942365           |155254                 |66715.0  |127936   |560092   |1481305  |2706317  |https://images.gr-assets.com/books/1447303603m/2767052.jpg|https://images.gr-assets.com/books/1447303603s/2767052.jpg|Suzanne Collins 4.34 The Hunger Games  The Hunger Games  #1 |\n",
            "+---+-------+------------+-------+-----------+---------+----------------+---------------+-------------------------+----------------+---------------------------------------+-------------+--------------+-------------+------------------+-----------------------+---------+---------+---------+---------+---------+----------------------------------------------------------+----------------------------------------------------------+------------------------------------------------------------+\n",
            "only showing top 1 row\n",
            "\n"
          ],
          "name": "stdout"
        }
      ]
    },
    {
      "cell_type": "code",
      "metadata": {
        "id": "F0bvwdP2jfgI"
      },
      "source": [
        "#from pyspark.ml.feature import HashingTF, IDF\n",
        "#hashingTF = HashingTF(inputCol=\"tokens\", outputCol=\"tf\")\n",
        "#tf = hashingTF.transform(regexTokenized)\n",
        "#idf = IDF(inputCol=\"tf\", outputCol=\"feature\").fit(tf)\n",
        "#tfidf = idf.transform(tf)"
      ],
      "execution_count": null,
      "outputs": []
    },
    {
      "cell_type": "code",
      "metadata": {
        "id": "szQLwOPQjfcv"
      },
      "source": [
        "#from pyspark.ml.feature import Normalizer\n",
        "#normalizer = Normalizer(inputCol=\"feature\", outputCol=\"norm\")\n",
        "#data = normalizer.transform(tfidf)"
      ],
      "execution_count": null,
      "outputs": []
    },
    {
      "cell_type": "code",
      "metadata": {
        "id": "mFQaCsbJq59Y"
      },
      "source": [
        "books_datacont = books_datacont.toPandas()"
      ],
      "execution_count": null,
      "outputs": []
    },
    {
      "cell_type": "markdown",
      "metadata": {
        "id": "3N84k7Hoyx_p"
      },
      "source": [
        "**countVectorizer + cosine simiarity**"
      ]
    },
    {
      "cell_type": "code",
      "metadata": {
        "id": "wsVDwfO-zdB4"
      },
      "source": [
        "\"\"\"\n",
        "Tried to find the content based on countvectorizer\n",
        "\"\"\"\n",
        "from sklearn.feature_extraction.text import CountVectorizer\n",
        "cv = CountVectorizer()\n",
        "count_matrix = cv.fit_transform(books_datacont['desc'])"
      ],
      "execution_count": null,
      "outputs": []
    },
    {
      "cell_type": "code",
      "metadata": {
        "id": "j0oyCXubi7c5"
      },
      "source": [
        "cos_sim = cosine_similarity(count_matrix,count_matrix)"
      ],
      "execution_count": null,
      "outputs": []
    },
    {
      "cell_type": "code",
      "metadata": {
        "id": "-qfjjAa3zkPw"
      },
      "source": [
        "from pyspark.sql.types import IntegerType\n",
        "\n",
        "def recommendation_content(index):\n",
        "  cosine_score = list(enumerate(cos_sim[index]))\n",
        "  cosine_score = sorted(cosine_score, key = lambda x: x[1], reverse = True)\n",
        "      #Top 10 recommendations based on content\n",
        "  recommendations = cosine_score[1:10]\n",
        "  recommend = [i[0] for i in recommendations]\n",
        "  recom = spark.createDataFrame(recommend, IntegerType())\n",
        "  recom.join(books_dataidx, recom.value == books_dataidx.id ,'inner').select(\"book_id\",\"original_title\").show(10,False)"
      ],
      "execution_count": null,
      "outputs": []
    },
    {
      "cell_type": "code",
      "metadata": {
        "colab": {
          "base_uri": "https://localhost:8080/"
        },
        "id": "7AxZr-cgz4ux",
        "outputId": "c2a81343-c7f0-49c9-8c42-0d097d633201"
      },
      "source": [
        "Book = \"Harry Potter and the Philosopher's Stone\"\n",
        "print(f\"Queried Book name: {Book} \\n\")\n",
        "query_index = books_dataidx.where(books_data['original_title'] == Book).select(\"idx\").collect()\n",
        "recommendation_content(query_index[0].idx)"
      ],
      "execution_count": null,
      "outputs": [
        {
          "output_type": "stream",
          "text": [
            "Queried Book name: Harry Potter and the Philosopher's Stone \n",
            "\n",
            "+--------+----------------------------------------------------------------------+\n",
            "|book_id |original_title                                                        |\n",
            "+--------+----------------------------------------------------------------------+\n",
            "|18635016|The One                                                               |\n",
            "|2429135 |Män som hatar kvinnor                                                 |\n",
            "|34      | The Fellowship of the Ring                                           |\n",
            "|3763    |Live and Let Die                                                      |\n",
            "|51497   |The Strange Case of Dr. Jekyll and Mr. Hyde and Other Tales of Terror |\n",
            "|531350  |The Choice                                                            |\n",
            "|261161  |Dial L for Loser (The Clique, #6)                                     |\n",
            "|5       |Harry Potter and the Prisoner of Azkaban                              |\n",
            "|24019   |The New Best Recipe: All-New Edition with 1,000 Recipes               |\n",
            "+--------+----------------------------------------------------------------------+\n",
            "\n"
          ],
          "name": "stdout"
        }
      ]
    },
    {
      "cell_type": "markdown",
      "metadata": {
        "id": "7yEcYthL1cRl"
      },
      "source": [
        "**tf-idf + cosine similarity**"
      ]
    },
    {
      "cell_type": "code",
      "metadata": {
        "id": "UwT5vbxG-chE"
      },
      "source": [
        "regexTokenizer = RegexTokenizer(inputCol=\"desc\", outputCol=\"tokens\")\n",
        "regexTokenized = regexTokenizer.transform(books_datacont)"
      ],
      "execution_count": null,
      "outputs": []
    },
    {
      "cell_type": "code",
      "metadata": {
        "colab": {
          "base_uri": "https://localhost:8080/"
        },
        "id": "iAWPEGJxS5bq",
        "outputId": "646272b5-5d75-4fc7-b189-b1a47b5f384c"
      },
      "source": [
        "regexTokenized.show(1,False)"
      ],
      "execution_count": null,
      "outputs": [
        {
          "output_type": "stream",
          "text": [
            "+---+-------+------------+-------+-----------+---------+----------------+---------------+-------------------------+----------------+---------------------------------------+-------------+--------------+-------------+------------------+-----------------------+---------+---------+---------+---------+---------+----------------------------------------------------------+----------------------------------------------------------+--------------------+------------------------+\n",
            "|id |book_id|best_book_id|work_id|books_count|isbn     |isbn13          |authors        |original_publication_year|original_title  |title                                  |language_code|average_rating|ratings_count|work_ratings_count|work_text_reviews_count|ratings_1|ratings_2|ratings_3|ratings_4|ratings_5|image_url                                                 |small_image_url                                           |desc                |tokens                  |\n",
            "+---+-------+------------+-------+-----------+---------+----------------+---------------+-------------------------+----------------+---------------------------------------+-------------+--------------+-------------+------------------+-----------------------+---------+---------+---------+---------+---------+----------------------------------------------------------+----------------------------------------------------------+--------------------+------------------------+\n",
            "|1  |2767052|2767052     |2792775|272        |439023483|9.78043902348E12|Suzanne Collins|2008.0                   |The Hunger Games|The Hunger Games (The Hunger Games, #1)|eng          |4.34          |4780653      |4942365           |155254                 |66715.0  |127936   |560092   |1481305  |2706317  |https://images.gr-assets.com/books/1447303603m/2767052.jpg|https://images.gr-assets.com/books/1447303603s/2767052.jpg|Suzanne Collins 4.34|[suzanne, collins, 4.34]|\n",
            "+---+-------+------------+-------+-----------+---------+----------------+---------------+-------------------------+----------------+---------------------------------------+-------------+--------------+-------------+------------------+-----------------------+---------+---------+---------+---------+---------+----------------------------------------------------------+----------------------------------------------------------+--------------------+------------------------+\n",
            "only showing top 1 row\n",
            "\n"
          ],
          "name": "stdout"
        }
      ]
    },
    {
      "cell_type": "code",
      "metadata": {
        "id": "noCLrE43zuW0"
      },
      "source": [
        "\"\"\"\n",
        "used tfidf for content recommendation\n",
        "\"\"\"\n",
        "tfv = TfidfVectorizer(min_df = 3, max_features = None, strip_accents = 'unicode', analyzer = 'word', token_pattern =r'\\w{1,}',\n",
        "            ngram_range = (1,2),\n",
        "            stop_words = 'english')\n",
        "tfv_matrix = tfv.fit_transform(books_datacont['desc'])     ###Converted to sparse matrix"
      ],
      "execution_count": null,
      "outputs": []
    },
    {
      "cell_type": "code",
      "metadata": {
        "colab": {
          "base_uri": "https://localhost:8080/"
        },
        "id": "gNoiMQTFq535",
        "outputId": "73f95128-1a88-479a-d42b-552792f4b7f7"
      },
      "source": [
        "rows, cols = tfv_matrix.nonzero()     ### checking the nonzero values of sparse matrix\n",
        "rows,cols"
      ],
      "execution_count": null,
      "outputs": [
        {
          "output_type": "execute_result",
          "data": {
            "text/plain": [
              "(array([   0,    0,    0, ..., 9999, 9999, 9999], dtype=int32),\n",
              " array([ 161, 1021, 4139, ...,    0, 2263,  126], dtype=int32))"
            ]
          },
          "metadata": {
            "tags": []
          },
          "execution_count": 156
        }
      ]
    },
    {
      "cell_type": "code",
      "metadata": {
        "id": "L_Yyt66dq51F"
      },
      "source": [
        "###Cosine similarity\n",
        "cos_sim = cosine_similarity(tfv_matrix,tfv_matrix)"
      ],
      "execution_count": null,
      "outputs": []
    },
    {
      "cell_type": "code",
      "metadata": {
        "colab": {
          "base_uri": "https://localhost:8080/"
        },
        "id": "YpWIIrHO7467",
        "outputId": "8e2d49ad-531e-4c90-a332-d0172e7c3964"
      },
      "source": [
        "### Suppose i want to search for books based on book Attachments\n",
        "Book = \"Harry Potter and the Philosopher's Stone\"\n",
        "print(f\"Queried Book name: {Book} \\n\")\n",
        "query_index = books_dataidx.where(books_data['original_title'] == Book).select(\"idx\").collect()\n",
        "recommendation_content(query_index[0].idx)"
      ],
      "execution_count": null,
      "outputs": [
        {
          "output_type": "stream",
          "text": [
            "Queried Book name: Harry Potter and the Philosopher's Stone \n",
            "\n",
            "+--------+----------------------------------------------------------------------------------------+\n",
            "|book_id |original_title                                                                          |\n",
            "+--------+----------------------------------------------------------------------------------------+\n",
            "|2429135 |Män som hatar kvinnor                                                                   |\n",
            "|4922079 |One Second After                                                                        |\n",
            "|7095831 |Ship Breaker                                                                            |\n",
            "|14142   |The Art of Loving                                                                       |\n",
            "|77378   |The Seven-Percent Solution: Being a Reprint from the Reminiscences of John H. Watson, MD|\n",
            "|34      | The Fellowship of the Ring                                                             |\n",
            "|18635016|The One                                                                                 |\n",
            "|77276   |A Swiftly Tilting Planet                                                                |\n",
            "|15902792|null                                                                                    |\n",
            "+--------+----------------------------------------------------------------------------------------+\n",
            "\n"
          ],
          "name": "stdout"
        }
      ]
    },
    {
      "cell_type": "markdown",
      "metadata": {
        "id": "NII5TZ2zy8b0"
      },
      "source": [
        "**Binariser + cosine simiarity**"
      ]
    },
    {
      "cell_type": "code",
      "metadata": {
        "id": "Go14DlqT2Heb"
      },
      "source": [
        "#### trying Binarizer\n",
        "from sklearn.preprocessing import Binarizer\n",
        "binary = Binarizer().fit(count_matrix)         #### takes the count matrix we used to build the binary matrix\n",
        "binary_transformed = binary.transform(count_matrix)"
      ],
      "execution_count": null,
      "outputs": []
    },
    {
      "cell_type": "code",
      "metadata": {
        "id": "v_oSb6qh671u"
      },
      "source": [
        "cos_sim = cosine_similarity(binary_transformed,binary_transformed)"
      ],
      "execution_count": null,
      "outputs": []
    },
    {
      "cell_type": "code",
      "metadata": {
        "colab": {
          "base_uri": "https://localhost:8080/"
        },
        "id": "T9vq7uhy8vvg",
        "outputId": "81f5d550-6021-490e-83e3-0b3d692fa6d4"
      },
      "source": [
        "### Suppose i want to search for books based on book Attachments\n",
        "Book = \"Harry Potter and the Philosopher's Stone\"\n",
        "print(f\"Queried Book name: {Book} \\n\")\n",
        "query_index = books_dataidx.where(books_data['original_title'] == Book).select(\"idx\").collect()\n",
        "recommendation_content(query_index[0].idx)"
      ],
      "execution_count": null,
      "outputs": [
        {
          "output_type": "stream",
          "text": [
            "Queried Book name: Harry Potter and the Philosopher's Stone \n",
            "\n",
            "+--------+----------------------------------------------------------------------------------------+\n",
            "|book_id |original_title                                                                          |\n",
            "+--------+----------------------------------------------------------------------------------------+\n",
            "|2429135 |Män som hatar kvinnor                                                                   |\n",
            "|4922079 |One Second After                                                                        |\n",
            "|34      | The Fellowship of the Ring                                                             |\n",
            "|18635016|The One                                                                                 |\n",
            "|77276   |A Swiftly Tilting Planet                                                                |\n",
            "|14142   |The Art of Loving                                                                       |\n",
            "|7095831 |Ship Breaker                                                                            |\n",
            "|77378   |The Seven-Percent Solution: Being a Reprint from the Reminiscences of John H. Watson, MD|\n",
            "|5       |Harry Potter and the Prisoner of Azkaban                                                |\n",
            "+--------+----------------------------------------------------------------------------------------+\n",
            "\n"
          ],
          "name": "stdout"
        }
      ]
    }
  ]
}